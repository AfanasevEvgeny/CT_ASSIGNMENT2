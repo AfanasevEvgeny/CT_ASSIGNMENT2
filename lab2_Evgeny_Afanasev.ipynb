{
  "nbformat": 4,
  "nbformat_minor": 0,
  "metadata": {
    "colab": {
      "name": "lab2_Evgeny_Afanasev.ipynb",
      "provenance": [],
      "collapsed_sections": [
        "yYe1c8JabG91",
        "97Op-QLEbtP_",
        "aZuMuY3OcHc5"
      ],
      "authorship_tag": "ABX9TyN86sgxBUCe3s6zYMPZ18zt",
      "include_colab_link": true
    },
    "kernelspec": {
      "name": "python3",
      "display_name": "Python 3"
    }
  },
  "cells": [
    {
      "cell_type": "markdown",
      "metadata": {
        "id": "view-in-github",
        "colab_type": "text"
      },
      "source": [
        "<a href=\"https://colab.research.google.com/github/AfanasevEvgeny/CT_ASSIGNMENT2/blob/main/lab2_Evgeny_Afanasev.ipynb\" target=\"_parent\"><img src=\"https://colab.research.google.com/assets/colab-badge.svg\" alt=\"Open In Colab\"/></a>"
      ]
    },
    {
      "cell_type": "markdown",
      "metadata": {
        "id": "yXRJgOHtRYUA"
      },
      "source": [
        "#Evgeny Afanasev Lab2 Control Theory"
      ]
    },
    {
      "cell_type": "markdown",
      "metadata": {
        "id": "4FDLQk0HRgmX"
      },
      "source": [
        "##Pole palcement"
      ]
    },
    {
      "cell_type": "markdown",
      "metadata": {
        "id": "PCObbsulRnx1"
      },
      "source": [
        "###Task 1.1. Make the following systems stable, proposing appropriate control\r\n"
      ]
    },
    {
      "cell_type": "markdown",
      "metadata": {
        "id": "Ij0duiVoTyt_"
      },
      "source": [
        "####1.1.1\r\n",
        "$$\\dot x = \r\n",
        "\\begin{pmatrix} 10 & 0 \\\\ -5 & 10\r\n",
        "\\end{pmatrix}\r\n",
        "x\r\n",
        "+\r\n",
        "\\begin{pmatrix} \r\n",
        "2 \\\\ 0\r\n",
        "\\end{pmatrix}\r\n",
        "u\r\n",
        "$$\r\n",
        "\r\n",
        "\r\n",
        "\r\n"
      ]
    },
    {
      "cell_type": "code",
      "metadata": {
        "colab": {
          "base_uri": "https://localhost:8080/"
        },
        "id": "pNWVUM7yT_S-",
        "outputId": "d0137196-f065-4aeb-a835-efaeb0cbd540"
      },
      "source": [
        "import numpy as np\r\n",
        "from numpy.linalg import eig\r\n",
        "from scipy.integrate import odeint\r\n",
        "from scipy.signal import place_poles\r\n",
        "import matplotlib.pyplot as plt\r\n",
        "n = 2\r\n",
        "A = np.array([[10, 0], [-5, 10]])\r\n",
        "B = np.array([[2], [0]])\r\n",
        "e, v = eig(A)\r\n",
        "print('eigenvalues before:',e)\r\n",
        "\r\n",
        "# x_dot from state space\r\n",
        "def StateSpace(x, t):\r\n",
        "    return A.dot(x)# + B*np.sin(t)\r\n",
        "\r\n",
        "time = np.linspace(0, 1, 1000)\r\n",
        "x0 = np.random.rand(n)  # initial state\r\n",
        "\r\n",
        "solution = {\"SS\": odeint(StateSpace, x0, time)}\r\n",
        "\r\n",
        "poles = np.array([-1, -2])\r\n",
        "place_obj = place_poles(A, B, poles)\r\n",
        "\r\n",
        "#found control gains\r\n",
        "K = place_obj.gain_matrix\r\n",
        "print(\"pole placement K:\", K)\r\n",
        "\r\n",
        "#test that eigenvalues of the closed loop system are what they are supposed to be\r\n",
        "e, v = eig((A - B.dot(K)))\r\n",
        "print(\"eigenvalues of A - B*K:\", e)"
      ],
      "execution_count": null,
      "outputs": [
        {
          "output_type": "stream",
          "text": [
            "eigenvalues before: [10. 10.]\n",
            "pole placement K: [[ 11.5 -13.2]]\n",
            "eigenvalues of A - B*K: [-2. -1.]\n"
          ],
          "name": "stdout"
        }
      ]
    },
    {
      "cell_type": "markdown",
      "metadata": {
        "id": "yYe1c8JabG91"
      },
      "source": [
        "####1.1.2\r\n",
        "$$\\dot x = \r\n",
        "\\begin{pmatrix} 0 & -8 \\\\ 1 & 30\r\n",
        "\\end{pmatrix}\r\n",
        "x\r\n",
        "+\r\n",
        "\\begin{pmatrix} \r\n",
        "-2 \\\\ 1\r\n",
        "\\end{pmatrix}\r\n",
        "u\r\n",
        "$$"
      ]
    },
    {
      "cell_type": "code",
      "metadata": {
        "colab": {
          "base_uri": "https://localhost:8080/"
        },
        "id": "dRaCtYkLbhMb",
        "outputId": "25147db1-eb6d-4087-956f-530ca3b6830e"
      },
      "source": [
        "import numpy as np\r\n",
        "from numpy.linalg import eig\r\n",
        "from scipy.integrate import odeint\r\n",
        "from scipy.signal import place_poles\r\n",
        "import matplotlib.pyplot as plt\r\n",
        "n = 2\r\n",
        "A = np.array([[0, -8], [1, 30]])\r\n",
        "B = np.array([[-2], [1]])\r\n",
        "e, v = eig(A)\r\n",
        "print('eigenvalues before:',e)\r\n",
        "\r\n",
        "# x_dot from state space\r\n",
        "def StateSpace(x, t):\r\n",
        "    return A.dot(x)# + B*np.sin(t)\r\n",
        "\r\n",
        "time = np.linspace(0, 1, 1000)\r\n",
        "x0 = np.random.rand(n)  # initial state\r\n",
        "\r\n",
        "solution = {\"SS\": odeint(StateSpace, x0, time)}\r\n",
        "\r\n",
        "poles = np.array([-1, -2])\r\n",
        "place_obj = place_poles(A, B, poles)\r\n",
        "\r\n",
        "#found control gains\r\n",
        "K = place_obj.gain_matrix\r\n",
        "print(\"pole placement K:\", K)\r\n",
        "\r\n",
        "#test that eigenvalues of the closed loop system are what they are supposed to be\r\n",
        "e, v = eig((A - B.dot(K)))\r\n",
        "print(\"eigenvalues of A - B*K:\", e)"
      ],
      "execution_count": null,
      "outputs": [
        {
          "output_type": "stream",
          "text": [
            "eigenvalues before: [ 0.26908014 29.73091986]\n",
            "pole placement K: [[ 1.25 35.5 ]]\n",
            "eigenvalues of A - B*K: [-1. -2.]\n"
          ],
          "name": "stdout"
        }
      ]
    },
    {
      "cell_type": "markdown",
      "metadata": {
        "id": "97Op-QLEbtP_"
      },
      "source": [
        "####1.1.3\r\n",
        "$$\\dot x = \r\n",
        "\\begin{pmatrix} 2 & 2 \\\\ -6 & 10\r\n",
        "\\end{pmatrix}\r\n",
        "x\r\n",
        "+\r\n",
        "\\begin{pmatrix} \r\n",
        "0 \\\\ 5\r\n",
        "\\end{pmatrix}\r\n",
        "u\r\n",
        "$$"
      ]
    },
    {
      "cell_type": "code",
      "metadata": {
        "colab": {
          "base_uri": "https://localhost:8080/"
        },
        "id": "dpS5D5Rzb0za",
        "outputId": "1fab52be-29f5-495d-9313-77e0b20828f6"
      },
      "source": [
        "import numpy as np\r\n",
        "from numpy.linalg import eig\r\n",
        "from scipy.integrate import odeint\r\n",
        "from scipy.signal import place_poles\r\n",
        "import matplotlib.pyplot as plt\r\n",
        "n = 2\r\n",
        "A = np.array([[2, 2], [-6, 10]])\r\n",
        "B = np.array([[0], [5]])\r\n",
        "e, v = eig(A)\r\n",
        "print('eigenvalues before:',e)\r\n",
        "\r\n",
        "# x_dot from state space\r\n",
        "def StateSpace(x, t):\r\n",
        "    return A.dot(x)# + B*np.sin(t)\r\n",
        "\r\n",
        "time = np.linspace(0, 1, 1000)\r\n",
        "x0 = np.random.rand(n)  # initial state\r\n",
        "\r\n",
        "solution = {\"SS\": odeint(StateSpace, x0, time)}\r\n",
        "\r\n",
        "poles = np.array([-1, -2])\r\n",
        "place_obj = place_poles(A, B, poles)\r\n",
        "\r\n",
        "#found control gains\r\n",
        "K = place_obj.gain_matrix\r\n",
        "print(\"pole placement K:\", K)\r\n",
        "\r\n",
        "#test that eigenvalues of the closed loop system are what they are supposed to be\r\n",
        "e, v = eig((A - B.dot(K)))\r\n",
        "print(\"eigenvalues of A - B*K:\", e)"
      ],
      "execution_count": null,
      "outputs": [
        {
          "output_type": "stream",
          "text": [
            "eigenvalues before: [4. 8.]\n",
            "pole placement K: [[1.42108547e-15 3.00000000e+00]]\n",
            "eigenvalues of A - B*K: [-1. -2.]\n"
          ],
          "name": "stdout"
        }
      ]
    },
    {
      "cell_type": "markdown",
      "metadata": {
        "id": "aZuMuY3OcHc5"
      },
      "source": [
        "####1.1.4\r\n",
        "$$\\dot x = \r\n",
        "\\begin{pmatrix} 5 & -5 \\\\ 6 & 15\r\n",
        "\\end{pmatrix}\r\n",
        "x\r\n",
        "+\r\n",
        "\\begin{pmatrix} \r\n",
        "-10 \\\\ 10\r\n",
        "\\end{pmatrix}\r\n",
        "u\r\n",
        "$$"
      ]
    },
    {
      "cell_type": "code",
      "metadata": {
        "colab": {
          "base_uri": "https://localhost:8080/"
        },
        "id": "TdKYdP2kcM0t",
        "outputId": "39894879-f66e-4ea0-9985-2d16f0985084"
      },
      "source": [
        "import numpy as np\r\n",
        "from numpy.linalg import eig\r\n",
        "from scipy.integrate import odeint\r\n",
        "from scipy.signal import place_poles\r\n",
        "import matplotlib.pyplot as plt\r\n",
        "n = 2\r\n",
        "A = np.array([[5, -5], [-10, 10]])\r\n",
        "B = np.array([[6], [15]])\r\n",
        "e, v = eig(A)\r\n",
        "print('eigenvalues before:',e)\r\n",
        "\r\n",
        "# x_dot from state space\r\n",
        "def StateSpace(x, t):\r\n",
        "    return A.dot(x)# + B*np.sin(t)\r\n",
        "\r\n",
        "time = np.linspace(0, 1, 1000)\r\n",
        "x0 = np.random.rand(n)  # initial state\r\n",
        "\r\n",
        "solution = {\"SS\": odeint(StateSpace, x0, time)}\r\n",
        "\r\n",
        "poles = np.array([-1, -2])\r\n",
        "place_obj = place_poles(A, B, poles)\r\n",
        "\r\n",
        "#found control gains\r\n",
        "K = place_obj.gain_matrix\r\n",
        "print(\"pole placement K:\", K)\r\n",
        "\r\n",
        "#test that eigenvalues of the closed loop system are what they are supposed to be\r\n",
        "e, v = eig((A - B.dot(K)))\r\n",
        "print(\"eigenvalues of A - B*K:\", e)"
      ],
      "execution_count": null,
      "outputs": [
        {
          "output_type": "stream",
          "text": [
            "eigenvalues before: [ 0. 15.]\n",
            "pole placement K: [[-2.02469136  2.00987654]]\n",
            "eigenvalues of A - B*K: [-1. -2.]\n"
          ],
          "name": "stdout"
        }
      ]
    },
    {
      "cell_type": "markdown",
      "metadata": {
        "id": "Uk8CVevxckzL"
      },
      "source": [
        "###Task 1.2 Make the following systems stable, proposing appropriate control"
      ]
    },
    {
      "cell_type": "markdown",
      "metadata": {
        "id": "-b2nAWSDctv0"
      },
      "source": [
        "####1.2.1\r\n",
        "$$\\dot x = \r\n",
        "\\begin{pmatrix} 10 & 0 \\\\ -5 & 10\r\n",
        "\\end{pmatrix}\r\n",
        "x\r\n",
        "+\r\n",
        "\\begin{pmatrix} \r\n",
        "2 & 1 \\\\ 0 & -1\r\n",
        "\\end{pmatrix}\r\n",
        "u\r\n",
        "$$\r\n"
      ]
    },
    {
      "cell_type": "code",
      "metadata": {
        "colab": {
          "base_uri": "https://localhost:8080/"
        },
        "id": "pqwjydqBc4BG",
        "outputId": "0cb70fac-d0f5-4989-c889-5ed945877a82"
      },
      "source": [
        "import numpy as np\r\n",
        "from numpy.linalg import eig\r\n",
        "from scipy.integrate import odeint\r\n",
        "from scipy.signal import place_poles\r\n",
        "import matplotlib.pyplot as plt\r\n",
        "n = 2\r\n",
        "A = np.array([[10, 0], [-5, 10]])\r\n",
        "B = np.array([[2,1], [0,-1]])\r\n",
        "e, v = eig(A)\r\n",
        "print('eigenvalues before:',e)\r\n",
        "\r\n",
        "# x_dot from state space\r\n",
        "def StateSpace(x, t):\r\n",
        "    return A.dot(x)# + B*np.sin(t)\r\n",
        "\r\n",
        "time = np.linspace(0, 1, 1000)\r\n",
        "x0 = np.random.rand(n)  # initial state\r\n",
        "\r\n",
        "solution = {\"SS\": odeint(StateSpace, x0, time)}\r\n",
        "\r\n",
        "poles = np.array([-1, -2])\r\n",
        "place_obj = place_poles(A, B, poles)\r\n",
        "\r\n",
        "#found control gains\r\n",
        "K = place_obj.gain_matrix\r\n",
        "print(\"pole replacement K:\", K)\r\n",
        "\r\n",
        "#test that eigenvalues of the closed loop system are what they are supposed to be\r\n",
        "e, v = eig((A - B.dot(K)))\r\n",
        "print(\"eigenvalues of A - B*K:\", e)"
      ],
      "execution_count": null,
      "outputs": [
        {
          "output_type": "stream",
          "text": [
            "eigenvalues before: [10. 10.]\n",
            "pole replacement K: [[  3.5   5.5]\n",
            " [  5.  -11. ]]\n",
            "eigenvalues of A - B*K: [-1. -2.]\n"
          ],
          "name": "stdout"
        }
      ]
    },
    {
      "cell_type": "markdown",
      "metadata": {
        "id": "S_qALuIGnBqa"
      },
      "source": [
        "####1.2.2\r\n",
        "\r\n",
        "$$\\dot x = \r\n",
        "\\begin{pmatrix} 0 & -8 \\\\ 1 & 30\r\n",
        "\\end{pmatrix}\r\n",
        "x\r\n",
        "+\r\n",
        "\\begin{pmatrix} \r\n",
        "-2 & 1 \\\\ 1 & 1\r\n",
        "\\end{pmatrix}\r\n",
        "u\r\n",
        "$$\r\n"
      ]
    },
    {
      "cell_type": "code",
      "metadata": {
        "colab": {
          "base_uri": "https://localhost:8080/"
        },
        "id": "4x5DiI43nGH8",
        "outputId": "1c4a16a3-c681-4382-d979-b5de373e89ea"
      },
      "source": [
        "import numpy as np\r\n",
        "from numpy.linalg import eig\r\n",
        "from scipy.integrate import odeint\r\n",
        "from scipy.signal import place_poles\r\n",
        "import matplotlib.pyplot as plt\r\n",
        "n = 2\r\n",
        "A = np.array([[0, -8], [1, 30]])\r\n",
        "B = np.array([[-2, 1], [1, 1]])\r\n",
        "e, v = eig(A)\r\n",
        "print('eigenvalues before:',e)\r\n",
        "\r\n",
        "# x_dot from state space\r\n",
        "def StateSpace(x, t):\r\n",
        "    return A.dot(x)# + B*np.sin(t)\r\n",
        "\r\n",
        "time = np.linspace(0, 1, 1000)\r\n",
        "x0 = np.random.rand(n)  # initial state\r\n",
        "\r\n",
        "solution = {\"SS\": odeint(StateSpace, x0, time)}\r\n",
        "\r\n",
        "poles = np.array([-1, -2])\r\n",
        "place_obj = place_poles(A, B, poles)\r\n",
        "\r\n",
        "#found control gains\r\n",
        "K = place_obj.gain_matrix\r\n",
        "print(\"pole replacement K:\", K)\r\n",
        "\r\n",
        "#test that eigenvalues of the closed loop system are what they are supposed to be\r\n",
        "e, v = eig((A - B.dot(K)))\r\n",
        "print(\"eigenvalues of A - B*K:\", e)\r\n",
        "\r\n"
      ],
      "execution_count": null,
      "outputs": [
        {
          "output_type": "stream",
          "text": [
            "eigenvalues before: [ 0.26908014 29.73091986]\n",
            "pole replacement K: [[-0.33333333 13.        ]\n",
            " [ 1.33333333 18.        ]]\n",
            "eigenvalues of A - B*K: [-2. -1.]\n"
          ],
          "name": "stdout"
        }
      ]
    },
    {
      "cell_type": "markdown",
      "metadata": {
        "id": "XG56yGTcnNni"
      },
      "source": [
        "####1.2.3\r\n",
        "\r\n",
        "\r\n",
        "$$\\dot x = \r\n",
        "\\begin{pmatrix} 2 & 2 \\\\ -6 & 10\r\n",
        "\\end{pmatrix}\r\n",
        "x\r\n",
        "+\r\n",
        "\\begin{pmatrix} \r\n",
        "0 & -1 \\\\ 5 & -1\r\n",
        "\\end{pmatrix}\r\n",
        "u\r\n",
        "$$\r\n"
      ]
    },
    {
      "cell_type": "code",
      "metadata": {
        "id": "DHmhJ97onTO0"
      },
      "source": [
        "import numpy as np\r\n",
        "from numpy.linalg import eig\r\n",
        "from scipy.integrate import odeint\r\n",
        "from scipy.signal import place_poles\r\n",
        "import matplotlib.pyplot as plt\r\n",
        "n = 2\r\n",
        "A = np.array([[2, 2], [-6, 10]])\r\n",
        "B = np.array([[0, -1], [5, -1]])\r\n",
        "e, v = eig(A)\r\n",
        "print('eigenvalues before:',e)\r\n",
        "\r\n",
        "# x_dot from state space\r\n",
        "def StateSpace(x, t):\r\n",
        "    return A.dot(x)# + B*np.sin(t)\r\n",
        "\r\n",
        "time = np.linspace(0, 1, 1000)\r\n",
        "x0 = np.random.rand(n)  # initial state\r\n",
        "\r\n",
        "solution = {\"SS\": odeint(StateSpace, x0, time)}\r\n",
        "\r\n",
        "poles = np.array([-1, -2])\r\n",
        "place_obj = place_poles(A, B, poles)\r\n",
        "\r\n",
        "#found control gains\r\n",
        "K = place_obj.gain_matrix\r\n",
        "print(\"pole replacement K:\", K)\r\n",
        "\r\n",
        "#test that eigenvalues of the closed loop system are what they are supposed to be\r\n",
        "e, v = eig((A - B.dot(K)))\r\n",
        "print(\"eigenvalues of A - B*K:\", e)\r\n"
      ],
      "execution_count": null,
      "outputs": []
    },
    {
      "cell_type": "markdown",
      "metadata": {
        "id": "qpubbs_en91_"
      },
      "source": [
        "####1.2.4\r\n",
        "\r\n",
        "$$\\dot x = \r\n",
        "\\begin{pmatrix} 5 & -5 \\\\ 6 & 15\r\n",
        "\\end{pmatrix}\r\n",
        "x\r\n",
        "+\r\n",
        "\\begin{pmatrix} \r\n",
        "-10 & 3 \\\\ 10 & 3\r\n",
        "\\end{pmatrix}\r\n",
        "u\r\n",
        "$$"
      ]
    },
    {
      "cell_type": "code",
      "metadata": {
        "colab": {
          "base_uri": "https://localhost:8080/"
        },
        "id": "7H3rVdByoAYp",
        "outputId": "e7964389-79f6-4874-fe67-127000894634"
      },
      "source": [
        "import numpy as np\r\n",
        "from numpy.linalg import eig\r\n",
        "from scipy.integrate import odeint\r\n",
        "from scipy.signal import place_poles\r\n",
        "import matplotlib.pyplot as plt\r\n",
        "n = 2\r\n",
        "A = np.array([[5, -5], [6, 15]])\r\n",
        "B = np.array([[-10, 3], [10, 3]])\r\n",
        "e, v = eig(A)\r\n",
        "print('eigenvalues before:',e)\r\n",
        "\r\n",
        "# x_dot from state space\r\n",
        "def StateSpace(x, t):\r\n",
        "    return A.dot(x)# + B*np.sin(t)\r\n",
        "\r\n",
        "time = np.linspace(0, 1, 1000)\r\n",
        "x0 = np.random.rand(n)  # initial state\r\n",
        "\r\n",
        "solution = {\"SS\": odeint(StateSpace, x0, time)}\r\n",
        "\r\n",
        "poles = np.array([-1, -2])\r\n",
        "place_obj = place_poles(A, B, poles)\r\n",
        "\r\n",
        "#found control gains\r\n",
        "K = place_obj.gain_matrix\r\n",
        "print(\"pole replacement K:\", K)\r\n",
        "\r\n",
        "#test that eigenvalues of the closed loop system are what they are supposed to be\r\n",
        "e, v = eig((A - B.dot(K)))\r\n",
        "print(\"eigenvalues of A - B*K:\", e)\r\n",
        "\r\n",
        "\r\n"
      ],
      "execution_count": null,
      "outputs": [
        {
          "output_type": "stream",
          "text": [
            "eigenvalues before: [10.+2.23606798j 10.-2.23606798j]\n",
            "pole replacement K: [[-0.05        1.05      ]\n",
            " [ 2.16666667  1.83333333]]\n",
            "eigenvalues of A - B*K: [-2. -1.]\n"
          ],
          "name": "stdout"
        }
      ]
    },
    {
      "cell_type": "markdown",
      "metadata": {
        "id": "iPatAxNWoP6S"
      },
      "source": [
        "### Task 1.3 Give example of an unstable system that can't be stabilized\r\n",
        "\r\n",
        "of the form $\\dot x = \r\n",
        "Ax+Bu$, where $A \\in \\mathbb{R}^{2 \\times 2}$"
      ]
    },
    {
      "cell_type": "markdown",
      "metadata": {
        "id": "y4uKlTnRoaKP"
      },
      "source": [
        "####where $B \r\n",
        "\\in \\mathbb{R}^{2 \\times 1}$ \r\n",
        "####where $B \\in \\mathbb{R}^{2 \\times 2}$\r\n",
        "####where $B \\in \\mathbb{R}^{2 \\times 3}$\r\n",
        "\r\n"
      ]
    },
    {
      "cell_type": "code",
      "metadata": {
        "colab": {
          "base_uri": "https://localhost:8080/"
        },
        "id": "NOv2SclYFCWB",
        "outputId": "8edaf1da-760e-4fa3-b130-3aa2bce24bb3"
      },
      "source": [
        "import numpy as np\r\n",
        "from scipy.signal import place_poles\r\n",
        "\r\n",
        "\r\n",
        "desired_eigs = np.array([-5,-10])\r\n",
        "\r\n",
        "A1, B1 = np.array([[0,0], [1,1]]), np.array([[0],[1]])\r\n",
        "A2, B2 = np.array([[0,0], [1,1]]), np.array([[0, 0],[1, 1]])\r\n",
        "A3, B3 = np.array([[0,0], [10,10]]), np.array([[0, 2, 0],[3, 1, 1]])\r\n",
        "for i, (A, B) in enumerate(zip((A1, A2, A3), (B1, B2, B3))):\r\n",
        "  try:\r\n",
        "    K = place_poles(A2, B2, desired_eigs).gain_matrix\r\n",
        "  except ValueError as e:\r\n",
        "    print(f\"{i+1} can not be stabilized, exception: {e}\")"
      ],
      "execution_count": null,
      "outputs": [
        {
          "output_type": "stream",
          "text": [
            "1 can not be stabilized, exception: The poles you've chosen can't be placed. Check the controllability matrix and try another set of poles\n",
            "2 can not be stabilized, exception: The poles you've chosen can't be placed. Check the controllability matrix and try another set of poles\n",
            "3 can not be stabilized, exception: The poles you've chosen can't be placed. Check the controllability matrix and try another set of poles\n"
          ],
          "name": "stdout"
        }
      ]
    },
    {
      "cell_type": "markdown",
      "metadata": {
        "id": "7L4JJkcdulB5"
      },
      "source": [
        "##Root locus\r\n"
      ]
    },
    {
      "cell_type": "markdown",
      "metadata": {
        "id": "xX0idZm1urXE"
      },
      "source": [
        "### Task 2.1 Plot root locus\r\n"
      ]
    },
    {
      "cell_type": "markdown",
      "metadata": {
        "id": "JRkzkU0euzgZ"
      },
      "source": [
        "####For a system with $A$ with imaginary eigenvalues:\r\n",
        "\r\n"
      ]
    },
    {
      "cell_type": "code",
      "metadata": {
        "colab": {
          "base_uri": "https://localhost:8080/",
          "height": 296
        },
        "id": "CdQqVwxbvdnY",
        "outputId": "bd09551e-4ce7-49a9-f5cb-2746bd99f119"
      },
      "source": [
        "import matplotlib.pyplot as plt\r\n",
        "import numpy as np\r\n",
        "from numpy.linalg import eig\r\n",
        "\r\n",
        "A = np.array([[1, -1], [1, 1]])\r\n",
        "B = np.array([[1], [0]])\r\n",
        "K0 = np.array([[1, 1]]);\r\n",
        "e, v = eig(A)\r\n",
        "print('eigenvalues of A:',e)\r\n",
        "k_min = 1;\r\n",
        "k_max = 10;\r\n",
        "k_step = 0.1;\r\n",
        "\r\n",
        "Count = np.floor((k_max-k_min)/k_step)\r\n",
        "Count = Count.astype(int)\r\n",
        "\r\n",
        "k_range = np.linspace(k_min, k_max, Count)\r\n",
        "\r\n",
        "E = np.zeros((Count, 4))\r\n",
        "\r\n",
        "for i in range(Count):\r\n",
        "    K0[0, 0] = k_range[i]\r\n",
        "\r\n",
        "    ei, v = eig((A - B.dot(K0)))\r\n",
        "\r\n",
        "    E[i, 0] = np.real(ei[0])\r\n",
        "    E[i, 1] = np.imag(ei[0])\r\n",
        "    E[i, 2] = np.real(ei[1])\r\n",
        "    E[i, 3] = np.imag(ei[1])\r\n",
        "\r\n",
        "    #print(\"eigenvalues of A - B*K:\", ei)\r\n",
        "\r\n",
        "\r\n",
        "plt.plot(E[:, 0], E[:, 1])\r\n",
        "plt.plot(E[:, 2], E[:, 3])\r\n",
        "plt.xlabel('real')\r\n",
        "plt.ylabel('imag')\r\n",
        "plt.show()"
      ],
      "execution_count": null,
      "outputs": [
        {
          "output_type": "stream",
          "text": [
            "eigenvalues of A: [1.+1.j 1.-1.j]\n"
          ],
          "name": "stdout"
        },
        {
          "output_type": "display_data",
          "data": {
            "image/png": "[encoded data removed]",
            "text/plain": [
              "<Figure size 432x288 with 1 Axes>"
            ]
          },
          "metadata": {
            "tags": [],
            "needs_background": "light"
          }
        }
      ]
    },
    {
      "cell_type": "markdown",
      "metadata": {
        "id": "0SOiiG0Szyp9"
      },
      "source": [
        "####For a system with $A$ with real eigenvalues:\r\n"
      ]
    },
    {
      "cell_type": "code",
      "metadata": {
        "colab": {
          "base_uri": "https://localhost:8080/",
          "height": 296
        },
        "id": "KGKN2Iwjz336",
        "outputId": "410887da-3835-4033-dc7e-4c14aa7ec37c"
      },
      "source": [
        "import matplotlib.pyplot as plt\r\n",
        "import numpy as np\r\n",
        "from numpy.linalg import eig\r\n",
        "\r\n",
        "A = np.array([[1, 2], [1, 1]])\r\n",
        "B = np.array([[1], [0]])\r\n",
        "K0 = np.array([[1, 1]]);\r\n",
        "e, v = eig(A)\r\n",
        "print('eigenvalues of A:',e)\r\n",
        "k_min = 1;\r\n",
        "k_max = 10;\r\n",
        "k_step = 0.1;\r\n",
        "\r\n",
        "Count = np.floor((k_max-k_min)/k_step)\r\n",
        "Count = Count.astype(int)\r\n",
        "\r\n",
        "k_range = np.linspace(k_min, k_max, Count)\r\n",
        "\r\n",
        "E = np.zeros((Count, 4))\r\n",
        "\r\n",
        "for i in range(Count):\r\n",
        "    K0[0, 0] = k_range[i]\r\n",
        "\r\n",
        "    ei, v = eig((A - B.dot(K0)))\r\n",
        "\r\n",
        "    E[i, 0] = np.real(ei[0])\r\n",
        "    E[i, 1] = np.imag(ei[0])\r\n",
        "    E[i, 2] = np.real(ei[1])\r\n",
        "    E[i, 3] = np.imag(ei[1])\r\n",
        "\r\n",
        "    #print(\"eigenvalues of A - B*K:\", ei)\r\n",
        "\r\n",
        "\r\n",
        "plt.plot(E[:, 0], E[:, 1])\r\n",
        "plt.plot(E[:, 2], E[:, 3])\r\n",
        "plt.xlabel('real')\r\n",
        "plt.ylabel('imag')\r\n",
        "plt.show()"
      ],
      "execution_count": null,
      "outputs": [
        {
          "output_type": "stream",
          "text": [
            "eigenvalues of A: [ 2.41421356 -0.41421356]\n"
          ],
          "name": "stdout"
        },
        {
          "output_type": "display_data",
          "data": {
            "image/png": "[encoded data removed]",
            "text/plain": [
              "<Figure size 432x288 with 1 Axes>"
            ]
          },
          "metadata": {
            "tags": [],
            "needs_background": "light"
          }
        }
      ]
    },
    {
      "cell_type": "markdown",
      "metadata": {
        "id": "Su9v5_bk0WEl"
      },
      "source": [
        "####For a system where real parts of eigenvalues of $(A - BK)$ are all negative\r\n",
        "\r\n"
      ]
    },
    {
      "cell_type": "code",
      "metadata": {
        "colab": {
          "base_uri": "https://localhost:8080/",
          "height": 1000
        },
        "id": "S4irRPFQ1W1J",
        "outputId": "594f3448-c643-4d0a-a1ff-b74eb632212d"
      },
      "source": [
        "import matplotlib.pyplot as plt\r\n",
        "import numpy as np\r\n",
        "from numpy.linalg import eig\r\n",
        "\r\n",
        "A = np.array([[4, -1], [7, 1]])\r\n",
        "B = np.array([[1], [0]])\r\n",
        "K0 = np.array([[1, 1]]);\r\n",
        "e, v = eig(A)\r\n",
        "#print('eigenvalues of A:',e)\r\n",
        "k_min = 1;\r\n",
        "k_max = 10;\r\n",
        "k_step = 0.1;\r\n",
        "\r\n",
        "Count = np.floor((k_max-k_min)/k_step)\r\n",
        "Count = Count.astype(int)\r\n",
        "\r\n",
        "k_range = np.linspace(k_min, k_max, Count)\r\n",
        "\r\n",
        "E = np.zeros((Count, 4))\r\n",
        "\r\n",
        "for i in range(Count):\r\n",
        "    K0[0, 0] = k_range[i]\r\n",
        "\r\n",
        "    ei, v = eig((A - B.dot(K0)))\r\n",
        "\r\n",
        "    E[i, 0] = np.real(ei[0])\r\n",
        "    E[i, 1] = np.imag(ei[0])\r\n",
        "    E[i, 2] = np.real(ei[1])\r\n",
        "    E[i, 3] = np.imag(ei[1])\r\n",
        "\r\n",
        "\r\n",
        "\r\n",
        "print(\"eigenvalues of A - B*K:\", ei)\r\n",
        "plt.plot(E[:, 0], E[:, 1])\r\n",
        "plt.plot(E[:, 2], E[:, 3])\r\n",
        "plt.xlabel('real')\r\n",
        "plt.ylabel('imag')\r\n",
        "plt.show()"
      ],
      "execution_count": null,
      "outputs": [
        {
          "output_type": "stream",
          "text": [
            "eigenvalues of A - B*K: [-2.5+1.32287566j -2.5-1.32287566j]\n"
          ],
          "name": "stdout"
        },
        {
          "output_type": "display_data",
          "data": {
            "image/png": "[encoded data removed]",
            "text/plain": [
              "<Figure size 1440x1440 with 1 Axes>"
            ]
          },
          "metadata": {
            "tags": [],
            "needs_background": "light"
          }
        }
      ]
    },
    {
      "cell_type": "markdown",
      "metadata": {
        "id": "ZnZu7vfN1fZl"
      },
      "source": [
        "####For a system where real parts of eigenvalues of $(A - BK)$ are all positive"
      ]
    },
    {
      "cell_type": "code",
      "metadata": {
        "colab": {
          "base_uri": "https://localhost:8080/",
          "height": 1000
        },
        "id": "7g7Bc-VD1hTQ",
        "outputId": "65091d4a-f208-45d2-e38c-ec2664cb5cba"
      },
      "source": [
        "import matplotlib.pyplot as plt\r\n",
        "import numpy as np\r\n",
        "from numpy.linalg import eig\r\n",
        "\r\n",
        "A = np.array([[-2, -1], [-7, 15]])\r\n",
        "B = np.array([[-1], [0]])\r\n",
        "K0 = np.array([[1, 1]]);\r\n",
        "e, v = eig(A)\r\n",
        "#print('eigenvalues of A:',e)\r\n",
        "k_min = 1;\r\n",
        "k_max = 10;\r\n",
        "k_step = 0.1;\r\n",
        "\r\n",
        "Count = np.floor((k_max-k_min)/k_step)\r\n",
        "Count = Count.astype(int)\r\n",
        "\r\n",
        "k_range = np.linspace(k_min, k_max, Count)\r\n",
        "\r\n",
        "E = np.zeros((Count, 4))\r\n",
        "\r\n",
        "for i in range(Count):\r\n",
        "    K0[0, 0] = k_range[i]\r\n",
        "\r\n",
        "    ei, v = eig((A - B.dot(K0)))\r\n",
        "\r\n",
        "    E[i, 0] = np.real(ei[0])\r\n",
        "    E[i, 1] = np.imag(ei[0])\r\n",
        "    E[i, 2] = np.real(ei[1])\r\n",
        "    E[i, 3] = np.imag(ei[1])\r\n",
        "\r\n",
        "print(\"eigenvalues of A - B*K:\", ei)\r\n",
        "\r\n",
        "\r\n",
        "plt.plot(E[:, 0], E[:, 1])\r\n",
        "plt.plot(E[:, 2], E[:, 3])\r\n",
        "plt.xlabel('real')\r\n",
        "plt.ylabel('imag')\r\n",
        "plt.show()"
      ],
      "execution_count": null,
      "outputs": [
        {
          "output_type": "stream",
          "text": [
            "eigenvalues of A - B*K: [15.  8.]\n"
          ],
          "name": "stdout"
        },
        {
          "output_type": "display_data",
          "data": {
            "image/png": "[encoded data removed]",
            "text/plain": [
              "<Figure size 1440x1440 with 1 Axes>"
            ]
          },
          "metadata": {
            "tags": [],
            "needs_background": "light"
          }
        }
      ]
    },
    {
      "cell_type": "markdown",
      "metadata": {
        "id": "inLe-xTe17Ot"
      },
      "source": [
        "##Reaction to inputs"
      ]
    },
    {
      "cell_type": "markdown",
      "metadata": {
        "id": "ZH6VxeV12EWh"
      },
      "source": [
        "## Task 3 Step functions\r\n"
      ]
    },
    {
      "cell_type": "markdown",
      "metadata": {
        "id": "be9-qtoD2KKl"
      },
      "source": [
        "### Task 3.1 Simulate first system 1.1 with a step function as an imput.\r\n"
      ]
    },
    {
      "cell_type": "code",
      "metadata": {
        "colab": {
          "base_uri": "https://localhost:8080/",
          "height": 290
        },
        "id": "qHdjEXH5KxU9",
        "outputId": "90b25b18-e072-46c4-ddab-649cbc3390f3"
      },
      "source": [
        "import matplotlib.pyplot as plt\r\n",
        "import numpy as np\r\n",
        "from numpy.linalg import eig\r\n",
        "from scipy.integrate import odeint\r\n",
        "\r\n",
        "\r\n",
        "def step_function(t):\r\n",
        "  if t >= 0:\r\n",
        "    return 1\r\n",
        "  else:\r\n",
        "    return 0\r\n",
        "\r\n",
        "    \r\n",
        "n = 2\r\n",
        "A = np.array([[10, 0], [-5, 10]])\r\n",
        "B = np.array([2, 0])\r\n",
        "\r\n",
        "\r\n",
        "\r\n",
        "def StateSpace(x, t):\r\n",
        "    return A.dot(x) + B*step_function(t)\r\n",
        "\r\n",
        "time = np.linspace(-1, 1, 1000)\r\n",
        "x0 = np.random.rand(n)\r\n",
        "\r\n",
        "solution = {\"SS\": odeint(StateSpace, x0, time)}\r\n",
        "plt.plot(time, solution[\"SS\"])\r\n",
        "plt.xlabel('t')\r\n",
        "plt.ylabel('f(t)')\r\n",
        "plt.show()"
      ],
      "execution_count": null,
      "outputs": [
        {
          "output_type": "display_data",
          "data": {
            "image/png": "[encoded data removed]",
            "text/plain": [
              "<Figure size 432x288 with 1 Axes>"
            ]
          },
          "metadata": {
            "tags": [],
            "needs_background": "light"
          }
        }
      ]
    },
    {
      "cell_type": "markdown",
      "metadata": {
        "id": "t2DBylRKLoU_"
      },
      "source": [
        "###Task 3.2\r\n",
        " Linear combination of solutions\r\n",
        "\r\n",
        "Simulate the first system of (1.1) with two different step functions $f_1$,  $f_2$ as an input, and with $f_1+f_2$ as an input. Compare the solutions for $f_1$,  $f_2$ with the solution for $f_1+f_2$."
      ]
    },
    {
      "cell_type": "code",
      "metadata": {
        "colab": {
          "base_uri": "https://localhost:8080/",
          "height": 276
        },
        "id": "L4ukczhOLqoB",
        "outputId": "c8dffbca-99f3-4e1d-8d8f-63bfd6aeea1a"
      },
      "source": [
        "#f1 and f2 are input\r\n",
        "import matplotlib.pyplot as plt\r\n",
        "import numpy as np\r\n",
        "from numpy.linalg import eig\r\n",
        "from scipy.integrate import odeint\r\n",
        "\r\n",
        "\r\n",
        "n = 2\r\n",
        "A = np.array([[10, 0], [-5, 10]])\r\n",
        "B = np.array([2, 0])\r\n",
        "\r\n",
        "t1=0 #random nums\r\n",
        "t2=1\r\n",
        "\r\n",
        "#2 different step functions\r\n",
        "def f1(t):\r\n",
        "  if t >= t1:\r\n",
        "    return 1\r\n",
        "  else:\r\n",
        "    return 0\r\n",
        "\r\n",
        "\r\n",
        "def f2(t):\r\n",
        "  if t >= t2:\r\n",
        "    return 1\r\n",
        "  else:\r\n",
        "    return 0\r\n",
        "\r\n",
        "\r\n",
        "def StateSpace(x, t):\r\n",
        "    return A.dot(x) + B*f1(t)\r\n",
        "\r\n",
        "\r\n",
        "def StateSpace2(x, t):\r\n",
        "    return A.dot(x) + B*f2(t)\r\n",
        "\r\n",
        "time = np.linspace(-1, 1, 1000)\r\n",
        "x0 = np.random.rand(n)  # initial state\r\n",
        "\r\n",
        "solution1 = {\"SS\": odeint(StateSpace, x0, time)}\r\n",
        "solution2 = {\"SS\": odeint(StateSpace2, x0, time)}\r\n",
        "\r\n",
        "plt.plot(time, solution1[\"SS\"] + solution2[\"SS\"])\r\n",
        "plt.show()"
      ],
      "execution_count": null,
      "outputs": [
        {
          "output_type": "display_data",
          "data": {
            "image/png": "[encoded data removed]",
            "text/plain": [
              "<Figure size 432x288 with 1 Axes>"
            ]
          },
          "metadata": {
            "tags": [],
            "needs_background": "light"
          }
        }
      ]
    },
    {
      "cell_type": "code",
      "metadata": {
        "colab": {
          "base_uri": "https://localhost:8080/",
          "height": 276
        },
        "id": "bZIZDpBGQcxc",
        "outputId": "fde5ef9d-c2d7-4101-a7f9-8d23bf5625d3"
      },
      "source": [
        "#input is the sum of f1 and f2\r\n",
        "import matplotlib.pyplot as plt\r\n",
        "import numpy as np\r\n",
        "from numpy.linalg import eig\r\n",
        "from scipy.integrate import odeint\r\n",
        "\r\n",
        "\r\n",
        "n = 2\r\n",
        "A = np.array([[10, 0], [-5, 10]])\r\n",
        "B = np.array([2, 0])\r\n",
        "\r\n",
        "t1=0 #random nums\r\n",
        "t2=1\r\n",
        "\r\n",
        "#2 different step functions\r\n",
        "def f1(t):\r\n",
        "  if t >= t1:\r\n",
        "    return 1\r\n",
        "  else:\r\n",
        "    return 0\r\n",
        "\r\n",
        "\r\n",
        "def f2(t):\r\n",
        "  if t >= t2:\r\n",
        "    return 1\r\n",
        "  else:\r\n",
        "    return 0\r\n",
        "\r\n",
        "\r\n",
        "def StateSpaceSum(x,t):\r\n",
        "    return A.dot(x) + B*(f1(t)+f2(t))\r\n",
        "\r\n",
        "\r\n",
        "time = np.linspace(-1, 1, 1000)\r\n",
        "x0 = np.random.rand(n)  # initial state\r\n",
        "\r\n",
        "solutionSum = {\"SS\": odeint(StateSpaceSum, x0, time)}\r\n",
        "plt.plot(time,solutionSum['SS'])\r\n",
        "plt.show()"
      ],
      "execution_count": null,
      "outputs": [
        {
          "output_type": "display_data",
          "data": {
            "image/png": "[encoded data removed]",
            "text/plain": [
              "<Figure size 432x288 with 1 Axes>"
            ]
          },
          "metadata": {
            "tags": [],
            "needs_background": "light"
          }
        }
      ]
    },
    {
      "cell_type": "markdown",
      "metadata": {
        "id": "PhfJnjhnQ_Ib"
      },
      "source": [
        "####solutions are the same"
      ]
    },
    {
      "cell_type": "markdown",
      "metadata": {
        "id": "K6KHIl0BPCV8"
      },
      "source": [
        "##Task 4: Sinusoidal inputs\r\n"
      ]
    },
    {
      "cell_type": "markdown",
      "metadata": {
        "id": "fK3pFle4QuJx"
      },
      "source": [
        "\r\n",
        "###Taks 4.1 Simulate the first system of (1.1) with a sinusoidal input $u = sin(wt)$."
      ]
    },
    {
      "cell_type": "code",
      "metadata": {
        "colab": {
          "base_uri": "https://localhost:8080/",
          "height": 333
        },
        "id": "2rJp-QOUPQ2k",
        "outputId": "a4d40df9-730b-442e-f114-5823e4918138"
      },
      "source": [
        "from scipy.signal import ss2tf\r\n",
        "from scipy.signal import freqz\r\n",
        "import numpy as np\r\n",
        "import matplotlib.pyplot as plt\r\n",
        "\r\n",
        "\r\n",
        "A = np.array([[10, 0], [-5, 10]])\r\n",
        "B = np.array([[2], [0]])\r\n",
        "C = np.eye(2)\r\n",
        "D = np.zeros((2, 1))\r\n",
        "\r\n",
        "num, den = ss2tf(A, B, C, D)\r\n",
        "\r\n",
        "print(\"num:\", num)\r\n",
        "print(\"den:\", den)\r\n",
        "\r\n",
        "w1, h1 = freqz(num[0, :], den)\r\n",
        "w2, h2 = freqz(num[1, :], den)\r\n",
        "\r\n",
        "plt.subplot(211)\r\n",
        "plt.plot(w1, 20 * np.log10(abs(h1)), 'b')\r\n",
        "plt.ylabel('Amplitude [dB]', color='b')\r\n",
        "plt.xlabel('Frequency [rad/sample]')\r\n",
        "\r\n",
        "plt.subplot(212)\r\n",
        "plt.plot(w2, 20 * np.log10(abs(h2)), 'b')\r\n",
        "plt.ylabel('Amplitude [dB]', color='b')\r\n",
        "plt.xlabel('Frequency [rad/sample]')\r\n",
        "plt.show()\r\n"
      ],
      "execution_count": null,
      "outputs": [
        {
          "output_type": "stream",
          "text": [
            "num: [[  0.   2. -20.]\n",
            " [  0.   0. -10.]]\n",
            "den: [  1. -20. 100.]\n"
          ],
          "name": "stdout"
        },
        {
          "output_type": "display_data",
          "data": {
            "image/png": "[encoded data removed]",
            "text/plain": [
              "<Figure size 432x288 with 2 Axes>"
            ]
          },
          "metadata": {
            "tags": [],
            "needs_background": "light"
          }
        }
      ]
    },
    {
      "cell_type": "markdown",
      "metadata": {
        "id": "pYU3YKK-SnUo"
      },
      "source": [
        "###Task 4.2 Make frequency diagrams for 2 of the systems you studied in the tasks 1.1 and 1.2"
      ]
    },
    {
      "cell_type": "code",
      "metadata": {
        "colab": {
          "base_uri": "https://localhost:8080/",
          "height": 330
        },
        "id": "t85sRvAxQOKb",
        "outputId": "f5cda631-8214-4670-9403-546862261c39"
      },
      "source": [
        "from scipy.signal import ss2tf\r\n",
        "from scipy.signal import freqz\r\n",
        "import numpy as np\r\n",
        "import matplotlib.pyplot as plt\r\n",
        "\r\n",
        "\r\n",
        "A = np.array([[0, -8], [1, 30]])\r\n",
        "B = np.array([[-2, 1],[1, 1]])\r\n",
        "C = np.eye(2)\r\n",
        "D = np.zeros((2, 2))\r\n",
        "\r\n",
        "num, den = ss2tf(A, B, C, D)\r\n",
        "\r\n",
        "print(\"num:\", num)\r\n",
        "print(\"den:\", den)\r\n",
        "\r\n",
        "w1, h1 = freqz(num[0, :], den)\r\n",
        "w2, h2 = freqz(num[1, :], den)\r\n",
        "\r\n",
        "plt.subplot(211)\r\n",
        "plt.plot(w1, 20 * np.log10(abs(h1)), 'b')\r\n",
        "plt.ylabel('Amplitude [dB]', color='b')\r\n",
        "plt.xlabel('Frequency [rad/sample]')\r\n",
        "\r\n",
        "plt.subplot(212)\r\n",
        "plt.plot(w2, 20 * np.log10(abs(h2)), 'b')\r\n",
        "plt.ylabel('Amplitude [dB]', color='b')\r\n",
        "plt.xlabel('Frequency [rad/sample]')\r\n",
        "plt.show()"
      ],
      "execution_count": null,
      "outputs": [
        {
          "output_type": "stream",
          "text": [
            "num: [[ 0. -2. 52.]\n",
            " [ 0.  1. -2.]]\n",
            "den: [  1. -30.   8.]\n"
          ],
          "name": "stdout"
        },
        {
          "output_type": "display_data",
          "data": {
            "image/png": "[encoded data removed]",
            "text/plain": [
              "<Figure size 432x288 with 2 Axes>"
            ]
          },
          "metadata": {
            "tags": [],
            "needs_background": "light"
          }
        }
      ]
    },
    {
      "cell_type": "code",
      "metadata": {
        "colab": {
          "base_uri": "https://localhost:8080/",
          "height": 330
        },
        "id": "DNzWMGD8TaCo",
        "outputId": "e7a9be7c-b5d0-4388-d6cf-148dd45dadb7"
      },
      "source": [
        "from scipy.signal import ss2tf\r\n",
        "from scipy.signal import freqz\r\n",
        "import numpy as np\r\n",
        "import matplotlib.pyplot as plt\r\n",
        "\r\n",
        "\r\n",
        "A = np.array([[2, 2], [-6, 10]])\r\n",
        "B = np.array([[0, -1],[5, -1]])\r\n",
        "C = np.eye(2)\r\n",
        "D = np.zeros((2, 2))\r\n",
        "\r\n",
        "num, den = ss2tf(A, B, C, D)\r\n",
        "\r\n",
        "print(\"num:\", num)\r\n",
        "print(\"den:\", den)\r\n",
        "\r\n",
        "w1, h1 = freqz(num[0, :], den)\r\n",
        "w2, h2 = freqz(num[1, :], den)\r\n",
        "\r\n",
        "plt.subplot(211)\r\n",
        "plt.plot(w1, 20 * np.log10(abs(h1)), 'b')\r\n",
        "plt.ylabel('Amplitude [dB]', color='b')\r\n",
        "plt.xlabel('Frequency [rad/sample]')\r\n",
        "\r\n",
        "plt.subplot(212)\r\n",
        "plt.plot(w2, 20 * np.log10(abs(h2)), 'b')\r\n",
        "plt.ylabel('Amplitude [dB]', color='b')\r\n",
        "plt.xlabel('Frequency [rad/sample]')\r\n",
        "plt.show()"
      ],
      "execution_count": null,
      "outputs": [
        {
          "output_type": "stream",
          "text": [
            "num: [[ 0.00000000e+00  1.77635684e-15  1.00000000e+01]\n",
            " [ 0.00000000e+00  5.00000000e+00 -1.00000000e+01]]\n",
            "den: [  1. -12.  32.]\n"
          ],
          "name": "stdout"
        },
        {
          "output_type": "display_data",
          "data": {
            "image/png": "[encoded data removed]",
            "text/plain": [
              "<Figure size 432x288 with 2 Axes>"
            ]
          },
          "metadata": {
            "tags": [],
            "needs_background": "light"
          }
        }
      ]
    },
    {
      "cell_type": "markdown",
      "metadata": {
        "id": "W0hTvR83UR9n"
      },
      "source": [
        "##Task 5 Point to point control"
      ]
    },
    {
      "cell_type": "markdown",
      "metadata": {
        "id": "FpTmJ4TwUaI0"
      },
      "source": [
        "## Task 5.1 Design point-to-point control and simulate the first system of (1.1) for  the following two cases:\r\n",
        "\r\n",
        "\r\n",
        "\r\n",
        "* where $B \\in \\mathbb{R}^{2 \\times 1}$\r\n",
        "* where $B \\in \\mathbb{R}^{2 \\times 2}$"
      ]
    },
    {
      "cell_type": "markdown",
      "metadata": {
        "id": "4QbszlJgYQ5_"
      },
      "source": [
        "### where $B \\in \\mathbb{R}^{2 \\times 1}$\r\n",
        "Given system:\r\n",
        "\r\n",
        "$$\\dot x = \r\n",
        "\\begin{pmatrix} 10 & 0 \\\\ -5 & 10\r\n",
        "\\end{pmatrix}\r\n",
        "x\r\n",
        "+\r\n",
        "\\begin{pmatrix} \r\n",
        "2 \\\\ 0\r\n",
        "\\end{pmatrix}\r\n",
        "u\r\n",
        "$$\r\n",
        "\r\n",
        "let us drive it towards the point $x^* = \\begin{pmatrix} 1 \\\\ 0.5 \\end{pmatrix}$\r\n",
        "\r\n",
        "We define our control as:\r\n",
        "\r\n",
        "$$u = \r\n",
        "-K (x - x^*) + u^*\r\n",
        "$$\r\n",
        "Step 1 - Feed-forward design\r\n",
        "\r\n",
        "We know that $\\dot x^* = 0$ and that at the node our dynamics obtains the form:\r\n",
        "\r\n",
        "$$0 = \r\n",
        "\\begin{pmatrix} 10 & 0 \\\\ -5 & 10\r\n",
        "\\end{pmatrix}\r\n",
        "\\begin{pmatrix} 1 \\\\ 0.5 \\end{pmatrix}\r\n",
        "+\r\n",
        "\\begin{pmatrix} \r\n",
        "2 \\\\ 0\r\n",
        "\\end{pmatrix}\r\n",
        "u^*\r\n",
        "$$\r\n",
        "\r\n",
        "In other words, $u^* = -5$.\r\n",
        "\r\n",
        "Step 2\r\n",
        "\r\n",
        "We define control error as $e = x - x^*$. \r\n",
        "\r\n",
        "\r\n",
        "Now we write error dynamics:\r\n",
        "\r\n",
        "$$\\dot x - \\dot x^* = \r\n",
        "\\begin{pmatrix} 10 & 0 \\\\ -5 & 10\r\n",
        "\\end{pmatrix}\r\n",
        "x\r\n",
        " - \r\n",
        "\\begin{pmatrix} 10 & 0 \\\\ -5 & 10\r\n",
        "\\end{pmatrix}\r\n",
        "x^*\r\n",
        "+\r\n",
        "\\begin{pmatrix} \r\n",
        "2 \\\\ 0\r\n",
        "\\end{pmatrix}\r\n",
        "(-K (x - x^*) + u^*)\r\n",
        "-\r\n",
        "\\begin{pmatrix} \r\n",
        "2 \\\\ 0\r\n",
        "\\end{pmatrix}\r\n",
        "u^*\r\n",
        "$$\r\n",
        "\r\n",
        "\r\n",
        "$$\\dot e = \r\n",
        "\\begin{pmatrix} 10 & 0 \\\\ -5 & 10\r\n",
        "\\end{pmatrix}\r\n",
        "e\r\n",
        "-\r\n",
        "\\begin{pmatrix} \r\n",
        "2 \\\\ 0\r\n",
        "\\end{pmatrix}\r\n",
        "K e\r\n",
        "$$"
      ]
    },
    {
      "cell_type": "code",
      "metadata": {
        "colab": {
          "base_uri": "https://localhost:8080/"
        },
        "id": "B4-r3UFwbhF9",
        "outputId": "3c5930c9-8b92-4443-e958-01e42adc1ddc"
      },
      "source": [
        "##feedback design\r\n",
        "A = np.array([[10,0], [-5, 10]])\r\n",
        "B = np.array([[2], [0]])\r\n",
        "\r\n",
        "#desired eigenvalues\r\n",
        "poles = np.array([-1, -2])\r\n",
        "place_obj = place_poles(A, B, poles)\r\n",
        "\r\n",
        "#found control gains\r\n",
        "K = place_obj.gain_matrix;\r\n",
        "print(\"K:\", K)\r\n",
        "\r\n",
        "#test that eigenvalues of the closed loop system are what they are supposed to be \r\n",
        "e, v = eig((A - B.dot(K)))\r\n",
        "print(\"eigenvalues of A - B*K:\", e)"
      ],
      "execution_count": null,
      "outputs": [
        {
          "output_type": "stream",
          "text": [
            "K: [[ 11.5 -13.2]]\n",
            "eigenvalues of A - B*K: [-2. -1.]\n"
          ],
          "name": "stdout"
        }
      ]
    },
    {
      "cell_type": "code",
      "metadata": {
        "colab": {
          "base_uri": "https://localhost:8080/",
          "height": 1000
        },
        "id": "BmtmxXA8ca5v",
        "outputId": "9f09b59b-5e5e-415f-94fe-6b12bdb9300e"
      },
      "source": [
        "#Simulate forward wirth the found control\r\n",
        "x_desired = np.array([1, 0.5])\r\n",
        "u_desired = np.array([-5])\r\n",
        "\r\n",
        "\r\n",
        "def StateSpace(x, t):\r\n",
        "    u = -K.dot(x - x_desired) + u_desired\r\n",
        "    return A.dot(x) + B.dot(u)\r\n",
        "\r\n",
        "time = np.linspace(0, 30, 30000)   \r\n",
        "x0 = np.random.rand(n)  # initial state\r\n",
        "\r\n",
        "solution = {\"solution_1\": odeint(StateSpace, x0, time)}    \r\n",
        "\r\n",
        "\r\n",
        "plt.rcParams['figure.figsize'] = [20, 20]\r\n",
        "\r\n",
        "# plt.rcParams[\"font.family\"] = \"Old Times American\"\r\n",
        "plt.rcParams[\"font.size\"] = 16\r\n",
        "plt.rcParams[\"font.weight\"] = 'normal'\r\n",
        "\r\n",
        "\r\n",
        "# plt.subplot(221)\r\n",
        "plt.plot(time, solution[\"solution_1\"], linewidth=2)\r\n",
        "plt.xlabel('time')\r\n",
        "plt.ylabel('x(t)')\r\n",
        "plt.grid(color='k', linestyle='--', linewidth=0.7, alpha=0.3)\r\n",
        "# plt.title('autonomous')"
      ],
      "execution_count": null,
      "outputs": [
        {
          "output_type": "display_data",
          "data": {
            "image/png": "[encoded data removed]",
            "text/plain": [
              "<Figure size 1440x1440 with 1 Axes>"
            ]
          },
          "metadata": {
            "tags": [],
            "needs_background": "light"
          }
        }
      ]
    },
    {
      "cell_type": "markdown",
      "metadata": {
        "id": "I_9spgWieQNd"
      },
      "source": [
        "###where $B \\in \\mathbb{R}^{2 \\times 2}$\r\n",
        "$$\\dot x = \r\n",
        "\\begin{pmatrix} 10 & 0 \\\\ -5 & 10\r\n",
        "\\end{pmatrix}\r\n",
        "x\r\n",
        "+\r\n",
        "\\begin{pmatrix} \r\n",
        "2 & 1 \\\\ 0 & -1\r\n",
        "\\end{pmatrix}\r\n",
        "u\r\n",
        "$$\r\n",
        "\r\n",
        "let us drive it towards the point $x^* = \\begin{pmatrix} 1 \\\\ 0 \\end{pmatrix}$\r\n",
        "\r\n",
        "\r\n",
        "Feed-forward design:\r\n",
        "\r\n",
        "\r\n",
        "We know that $\\dot x^* = 0$ and that at the node our dynamics obtains the form:\r\n",
        "\r\n",
        "$$0 = \r\n",
        "\\begin{pmatrix} 10 & 0 \\\\ -5 & 10\r\n",
        "\\end{pmatrix}\r\n",
        "\\begin{pmatrix} 1 \\\\ 0 \\end{pmatrix}\r\n",
        "+\r\n",
        "\\begin{pmatrix} \r\n",
        "2 & 1 \\\\ 0 & -1\r\n",
        "\\end{pmatrix}\r\n",
        "u^*\r\n",
        "$$\r\n",
        "\r\n",
        "In other words, $u^* =\\begin{pmatrix} -2.5 \\\\ -5 \\end{pmatrix} $.\r\n",
        "\r\n",
        "\r\n",
        "We define control error as $e = x - x^*$. \r\n",
        "\r\n",
        "\r\n",
        "Now we write error dynamics:\r\n",
        "\r\n",
        "$$\\dot x - \\dot x^* = \r\n",
        "\\begin{pmatrix} 10 & 0 \\\\ -5 & 10\r\n",
        "\\end{pmatrix}\r\n",
        "x\r\n",
        " - \r\n",
        "\\begin{pmatrix} 10 & 0 \\\\ -5 & 10\r\n",
        "\\end{pmatrix}\r\n",
        "x^*\r\n",
        "+\r\n",
        "\\begin{pmatrix} \r\n",
        "2 & 1 \\\\ 0 & -1\r\n",
        "\\end{pmatrix}\r\n",
        "(-K (x - x^*) + u^*)\r\n",
        "-\r\n",
        "\\begin{pmatrix} \r\n",
        "2 & 1 \\\\ 0 & -1\r\n",
        "\\end{pmatrix}\r\n",
        "u^*\r\n",
        "$$\r\n",
        "\r\n",
        "\r\n",
        "$$\\dot e = \r\n",
        "\\begin{pmatrix} 10 & 0 \\\\ -5 & 10\r\n",
        "\\end{pmatrix}\r\n",
        "e\r\n",
        "-\r\n",
        "\\begin{pmatrix} \r\n",
        "2 & 1 \\\\ 0 & -1\r\n",
        "\\end{pmatrix}\r\n",
        "K e\r\n",
        "$$\r\n"
      ]
    },
    {
      "cell_type": "code",
      "metadata": {
        "colab": {
          "base_uri": "https://localhost:8080/"
        },
        "id": "WaK9VPoSlfOL",
        "outputId": "f1340bb1-7634-4140-92d8-fc519c48fd24"
      },
      "source": [
        "#feedback design\r\n",
        "A = np.array([[10, 5], [-5, -10]])\r\n",
        "B = np.array([[2, 1], [0, -1]])\r\n",
        "\r\n",
        "#desired eigenvalues\r\n",
        "poles = np.array([-1, -2])\r\n",
        "place_obj = place_poles(A, B, poles)\r\n",
        "\r\n",
        "#found control gains\r\n",
        "K = place_obj.gain_matrix;\r\n",
        "print(\"K:\", K)\r\n",
        "\r\n",
        "#test that eigenvalues of the closed loop system are what they are supposed to be \r\n",
        "e, v = eig((A - B.dot(K)))\r\n",
        "print(\"eigenvalues of A - B*K:\", e)"
      ],
      "execution_count": null,
      "outputs": [
        {
          "output_type": "stream",
          "text": [
            "K: [[ 3.5 -2. ]\n",
            " [ 5.   9. ]]\n",
            "eigenvalues of A - B*K: [-2. -1.]\n"
          ],
          "name": "stdout"
        }
      ]
    },
    {
      "cell_type": "code",
      "metadata": {
        "colab": {
          "base_uri": "https://localhost:8080/",
          "height": 1000
        },
        "id": "WXMcHZ7ylsIn",
        "outputId": "a80ac5f8-a49a-480b-a7ea-06295a90d42f"
      },
      "source": [
        "x_desired = np.array([1, 0])\r\n",
        "u_desired = np.array([-2.5,-5])\r\n",
        "\r\n",
        "\r\n",
        "def StateSpace(x, t):\r\n",
        "    u = -K.dot(x - x_desired) + u_desired\r\n",
        "    return A.dot(x) + B.dot(u)\r\n",
        "\r\n",
        "time = np.linspace(0, 30, 30000)   \r\n",
        "x0 = np.random.rand(n)  # initial state\r\n",
        "\r\n",
        "solution = {\"solution_1\": odeint(StateSpace, x0, time)}    \r\n",
        "\r\n",
        "\r\n",
        "plt.rcParams['figure.figsize'] = [20, 20]\r\n",
        "\r\n",
        "# plt.rcParams[\"font.family\"] = \"Old Times American\"\r\n",
        "plt.rcParams[\"font.size\"] = 16\r\n",
        "plt.rcParams[\"font.weight\"] = 'normal'\r\n",
        "\r\n",
        "\r\n",
        "# plt.subplot(221)\r\n",
        "plt.plot(time, solution[\"solution_1\"], linewidth=2)\r\n",
        "plt.xlabel('time')\r\n",
        "plt.ylabel('x(t)')\r\n",
        "plt.grid(color='k', linestyle='--', linewidth=0.7, alpha=0.3)\r\n",
        "# plt.title('autonomous')"
      ],
      "execution_count": null,
      "outputs": [
        {
          "output_type": "display_data",
          "data": {
            "image/png": "[encoded data removed]",
            "text/plain": [
              "<Figure size 1440x1440 with 1 Axes>"
            ]
          },
          "metadata": {
            "tags": [],
            "needs_background": "light"
          }
        }
      ]
    },
    {
      "cell_type": "markdown",
      "metadata": {
        "id": "qbkqspVZRlC2"
      },
      "source": [
        "##Task 6 Discrete systems\r\n",
        "Let's consider discrete system: $x_{i+1} = Ax_i + Bu_i$\r\n"
      ]
    },
    {
      "cell_type": "markdown",
      "metadata": {
        "id": "FsJmWpPvQ64H"
      },
      "source": [
        "### Task 6.1\r\n",
        "Find which of the followig systems is stable:\r\n"
      ]
    },
    {
      "cell_type": "markdown",
      "metadata": {
        "id": "eI4RcLi5Ktr6"
      },
      "source": [
        "####6.1.1\r\n",
        "\r\n",
        "$$x_{i+1} = \r\n",
        "\\begin{pmatrix} 0.5 & 0.1 \\\\ -0.05 & 0.2\r\n",
        "\\end{pmatrix}\r\n",
        "x_i\r\n",
        "$$\r\n",
        "\r\n",
        "stable"
      ]
    },
    {
      "cell_type": "code",
      "metadata": {
        "id": "U9KoHG1YLBf4",
        "colab": {
          "base_uri": "https://localhost:8080/"
        },
        "outputId": "2e0a065d-0da9-48c1-817a-290ce9a3d585"
      },
      "source": [
        "A = np.asarray([[0.5, 0.1],\r\n",
        "                [-0.05, 0.2]])\r\n",
        "ei, v = eig(A)\r\n",
        "print(\"eigen values:\",ei)\r\n"
      ],
      "execution_count": null,
      "outputs": [
        {
          "output_type": "stream",
          "text": [
            "eigen values: [0.48228757 0.21771243]\n"
          ],
          "name": "stdout"
        }
      ]
    },
    {
      "cell_type": "markdown",
      "metadata": {
        "id": "fdJI5Z1lr4d0"
      },
      "source": [
        "####6.1.2\r\n",
        "$$x_{i+1} = \r\n",
        "\\begin{pmatrix} 1 & -2 \\\\ 0 & 0.3\r\n",
        "\\end{pmatrix}\r\n",
        "x_i\r\n",
        "$$\r\n",
        "stable"
      ]
    },
    {
      "cell_type": "code",
      "metadata": {
        "colab": {
          "base_uri": "https://localhost:8080/"
        },
        "id": "ndADnHddr-hj",
        "outputId": "ab5cb4e1-6ee3-476d-cd0f-19f17396c447"
      },
      "source": [
        "A = np.asarray([[1, -2],\r\n",
        "                [0, 0.3]])\r\n",
        "ei, v = eig(A)\r\n",
        "print(ei)"
      ],
      "execution_count": null,
      "outputs": [
        {
          "output_type": "stream",
          "text": [
            "[1.  0.3]\n"
          ],
          "name": "stdout"
        }
      ]
    },
    {
      "cell_type": "markdown",
      "metadata": {
        "id": "N2sw_hz7sIAd"
      },
      "source": [
        "###6.1.3\r\n",
        "$$x_{i+1} = \r\n",
        "\\begin{pmatrix} -5 & 0 \\\\ -0.1 & 1\r\n",
        "\\end{pmatrix}\r\n",
        "x_i\r\n",
        "+\r\n",
        "\\begin{pmatrix} \r\n",
        "0 \\\\ 0.5\r\n",
        "\\end{pmatrix}\r\n",
        "u_i, \\ \\ \\ \r\n",
        "u_i = \r\n",
        "\\begin{pmatrix} \r\n",
        "0 & 0.2\r\n",
        "\\end{pmatrix}\r\n",
        "x_i\r\n",
        "$$\r\n",
        "unstable\r\n"
      ]
    },
    {
      "cell_type": "code",
      "metadata": {
        "colab": {
          "base_uri": "https://localhost:8080/"
        },
        "id": "Ub9t4lHfsNIr",
        "outputId": "4321c54d-953a-4f6a-d9cb-94ed5dd3b937"
      },
      "source": [
        "A = np.asarray([[-5, 0],\r\n",
        "                [-0.1, 1.1]])\r\n",
        "ei, v = eig(A)\r\n",
        "print(ei)"
      ],
      "execution_count": null,
      "outputs": [
        {
          "output_type": "stream",
          "text": [
            "[ 1.1 -5. ]\n"
          ],
          "name": "stdout"
        }
      ]
    },
    {
      "cell_type": "markdown",
      "metadata": {
        "id": "Z7jJghEZshC-"
      },
      "source": [
        "####6.1.4\r\n",
        "$$x_{i+1} = \r\n",
        "\\begin{pmatrix} -2.2 & -3 \\\\ 0 & 0.5\r\n",
        "\\end{pmatrix}\r\n",
        "x_i\r\n",
        "+\r\n",
        "\\begin{pmatrix} \r\n",
        "-1 \\\\ 1\r\n",
        "\\end{pmatrix}\r\n",
        "u_i, \\ \\ \\ \r\n",
        "u_i = 10\r\n",
        "$$\r\n",
        "unstable\r\n",
        "\r\n"
      ]
    },
    {
      "cell_type": "code",
      "metadata": {
        "colab": {
          "base_uri": "https://localhost:8080/"
        },
        "id": "i2InHJFQsrGl",
        "outputId": "6c48b4d7-ae32-4cf0-c5c3-0fb4c9913013"
      },
      "source": [
        "A = np.asarray([[-2.2, -3],\r\n",
        "                [0, 0.5]])\r\n",
        "ei, v = eig(A)\r\n",
        "print(ei)"
      ],
      "execution_count": null,
      "outputs": [
        {
          "output_type": "stream",
          "text": [
            "[-2.2  0.5]\n"
          ],
          "name": "stdout"
        }
      ]
    },
    {
      "cell_type": "markdown",
      "metadata": {
        "id": "EM1a8D4ls-EO"
      },
      "source": [
        "###Task 6.2\r\n",
        "Propose control that makes the following systems stable:\r\n",
        "\r\n",
        "$$x_{i+1} = \r\n",
        "\\begin{pmatrix} 1 & 1 \\\\ -0.4 & 0.1\r\n",
        "\\end{pmatrix}\r\n",
        "x_i\r\n",
        "+\r\n",
        "\\begin{pmatrix} \r\n",
        "0.5 \\\\ 0.5\r\n",
        "\\end{pmatrix}\r\n",
        "u_i\r\n",
        "$$\r\n",
        "\r\n",
        "\r\n",
        "$$x_{i+1} = \r\n",
        "\\begin{pmatrix} 0.8 & -0.3 \\\\ 0 & 0.15\r\n",
        "\\end{pmatrix}\r\n",
        "x_i\r\n",
        "+\r\n",
        "\\begin{pmatrix} \r\n",
        "-1 \\\\ 1\r\n",
        "\\end{pmatrix}\r\n",
        "u_i\r\n",
        "$$"
      ]
    },
    {
      "cell_type": "code",
      "metadata": {
        "colab": {
          "base_uri": "https://localhost:8080/"
        },
        "id": "p-8eV8GstEjh",
        "outputId": "91e314de-7a85-4ccf-cffb-564d57d83bb3"
      },
      "source": [
        "#6.2.1\r\n",
        "from scipy.signal import ss2tf\r\n",
        "from scipy.signal import freqz\r\n",
        "import numpy as np\r\n",
        "import matplotlib.pyplot as plt\r\n",
        "from scipy.integrate import odeint\r\n",
        "from scipy.signal import place_poles\r\n",
        "from numpy.linalg import eig\r\n",
        "\r\n",
        "\r\n",
        "def StateSpace(x, t):\r\n",
        "    return A.dot(x)# + B*np.sin(t)\r\n",
        "\r\n",
        "\r\n",
        "n = 2\r\n",
        "A = np.array([[1, 1], [-0.4, 0.1]])\r\n",
        "B = np.array([[0.5], [0.5]])\r\n",
        "\r\n",
        "e, v = eig((A))\r\n",
        "print(\"eigenvalues of A:\", e)\r\n",
        "\r\n",
        "#the system is already stable. |eig(A)| < 1.\r\n",
        "\r\n",
        "time = np.linspace(0, 1, 1000)\r\n",
        "x0 = np.random.rand(n)  # initial state\r\n",
        "\r\n",
        "solution = {\"SS\": odeint(StateSpace, x0, time)}\r\n",
        "\r\n",
        "#desired eigenvalues\r\n",
        "poles = np.array([0.1, 0.4])\r\n",
        "place_obj = place_poles(A, B, poles)\r\n",
        "K = place_obj.gain_matrix;\r\n",
        "print(\"K:\", K)\r\n",
        "\r\n",
        "#just test another\r\n",
        "e, v = eig((A - B.dot(K)))\r\n",
        "print(\"eigenvalues of A - B*K:\", e)"
      ],
      "execution_count": null,
      "outputs": [
        {
          "output_type": "stream",
          "text": [
            "eigenvalues of A: [0.55+0.44440972j 0.55-0.44440972j]\n",
            "K: [[0.33043478 0.86956522]]\n",
            "eigenvalues of A - B*K: [0.4 0.1]\n"
          ],
          "name": "stdout"
        }
      ]
    },
    {
      "cell_type": "code",
      "metadata": {
        "colab": {
          "base_uri": "https://localhost:8080/"
        },
        "id": "5zZi-oEcvGVK",
        "outputId": "35eb9939-448f-488b-b841-6db7e5bd890d"
      },
      "source": [
        "#6.2.2\r\n",
        "from scipy.signal import ss2tf\r\n",
        "from scipy.signal import freqz\r\n",
        "import numpy as np\r\n",
        "import matplotlib.pyplot as plt\r\n",
        "from scipy.integrate import odeint\r\n",
        "from scipy.signal import place_poles\r\n",
        "from numpy.linalg import eig\r\n",
        "\r\n",
        "\r\n",
        "def StateSpace(x, t):\r\n",
        "    return A.dot(x)# + B*np.sin(t)\r\n",
        "\r\n",
        "\r\n",
        "n = 2\r\n",
        "A = np.array([[0.8, -0.3], [0, 0.15]])\r\n",
        "B = np.array([[-1], [1]])\r\n",
        "\r\n",
        "e, v = eig((A))\r\n",
        "print(\"eigenvalues of A:\", e)\r\n",
        "\r\n",
        "#the system is already stable. |eig(A)| < 1.\r\n",
        "\r\n",
        "time = np.linspace(0, 1, 1000)\r\n",
        "x0 = np.random.rand(n)  # initial state\r\n",
        "\r\n",
        "solution = {\"SS\": odeint(StateSpace, x0, time)}\r\n",
        "\r\n",
        "#desired eigenvalues\r\n",
        "poles = np.array([0.1, 0.4])\r\n",
        "place_obj = place_poles(A, B, poles)\r\n",
        "K = place_obj.gain_matrix;\r\n",
        "print(\"K:\", K)\r\n",
        "\r\n",
        "#just test another\r\n",
        "e, v = eig((A - B.dot(K)))\r\n",
        "print(\"eigenvalues of A - B*K:\", e)"
      ],
      "execution_count": null,
      "outputs": [
        {
          "output_type": "stream",
          "text": [
            "eigenvalues of A: [0.8  0.15]\n",
            "K: [[-0.29473684  0.15526316]]\n",
            "eigenvalues of A - B*K: [0.4 0.1]\n"
          ],
          "name": "stdout"
        }
      ]
    },
    {
      "cell_type": "markdown",
      "metadata": {
        "id": "pwzHp4ftvZKK"
      },
      "source": [
        "###Task 6.3 Design point-to-point control and simulate two discrete systems:\r\n",
        "\r\n",
        "* where $B \\in \\mathbb{R}^{2 \\times 1}$\r\n",
        "* where $B \\in \\mathbb{R}^{2 \\times 2}$"
      ]
    },
    {
      "cell_type": "code",
      "metadata": {
        "colab": {
          "base_uri": "https://localhost:8080/",
          "height": 622
        },
        "id": "cLF0TIqNvj3q",
        "outputId": "02a58249-a409-443d-9ebb-4a4a88e96e2c"
      },
      "source": [
        "#6.3.1\r\n",
        "A = np.array([[0.5, 0.1], [-0.05, 0.2]])\r\n",
        "B = np.array([[1], [0]])\r\n",
        "e, v = eig(A)\r\n",
        "print(e)\r\n",
        "# eigen values are positive\r\n",
        "#desired eigenvalues\r\n",
        "poles = np.array([0.2, 0.7])\r\n",
        "place_obj = place_poles(A, B, poles)\r\n",
        "\r\n",
        "K = place_obj.gain_matrix;\r\n",
        "print(\"K:\", K)\r\n",
        "\r\n",
        "e, v = eig((A - B.dot(K)))\r\n",
        "print(\"eigenvalues of A - B*K:\", e)\r\n",
        "\r\n",
        "x_desired = np.array([1, 2])\r\n",
        "u_desired = np.array([2])\r\n",
        "\r\n",
        "\r\n",
        "def StateSpace(x):\r\n",
        "    u = -K.dot(x - x_desired) + u_desired\r\n",
        "    return A.dot(x) + B.dot(u)\r\n",
        "\r\n",
        "Count = 100\r\n",
        "time = np.zeros((Count))\r\n",
        "dt = 0.01\r\n",
        "\r\n",
        "x0 = np.random.rand(n) \r\n",
        "solution = np.zeros((Count, 2))\r\n",
        "solution[0, :] = x0\r\n",
        "\r\n",
        "\r\n",
        "\r\n",
        "for i in range(0, Count-1):\r\n",
        "    x = solution[i, :]\r\n",
        "    x = StateSpace(x)\r\n",
        "    solution[i+1, :] = np.reshape(x, (1, 2))\r\n",
        "    time[i] = dt*i\r\n",
        "\r\n",
        "plt.subplot(221)\r\n",
        "plt.plot(range(0, Count), solution, linewidth=2)\r\n",
        "plt.xlabel('time')\r\n",
        "plt.ylabel('x(t)')\r\n",
        "plt.grid(color='k', linestyle='--', linewidth=0.7, alpha=0.3)"
      ],
      "execution_count": null,
      "outputs": [
        {
          "output_type": "stream",
          "text": [
            "[0.48228757 0.21771243]\n",
            "K: [[-0.2  0.1]]\n",
            "eigenvalues of A - B*K: [0.2 0.7]\n"
          ],
          "name": "stdout"
        },
        {
          "output_type": "display_data",
          "data": {
            "image/png": "[encoded data removed]",
            "text/plain": [
              "<Figure size 1440x1440 with 1 Axes>"
            ]
          },
          "metadata": {
            "tags": [],
            "needs_background": "light"
          }
        }
      ]
    },
    {
      "cell_type": "code",
      "metadata": {
        "colab": {
          "base_uri": "https://localhost:8080/",
          "height": 634
        },
        "id": "j4oNuHgnwSit",
        "outputId": "c3f4ee1a-c592-4973-dd35-fa7f50ce2159"
      },
      "source": [
        "#6.3.2\r\n",
        "A = np.array([[0.5, 0.1], [-0.05, 0.2]])\r\n",
        "B = np.array([[0.2, 1], [0.45, 0.5]])\r\n",
        "e, v = eig(A)\r\n",
        "print(e)\r\n",
        "# eigen values are positive\r\n",
        "#desired eigenvalues\r\n",
        "poles = np.array([0.2, 0.7])\r\n",
        "place_obj = place_poles(A, B, poles)\r\n",
        "\r\n",
        "K = place_obj.gain_matrix;\r\n",
        "print(\"K:\", K)\r\n",
        "\r\n",
        "e, v = eig((A - B.dot(K)))\r\n",
        "print(\"eigenvalues of A - B*K:\", e)\r\n",
        "\r\n",
        "x_desired = np.array([1, 2])\r\n",
        "u_desired = np.array([2])\r\n",
        "\r\n",
        "\r\n",
        "def StateSpace(x):\r\n",
        "    u = -K.dot(x - x_desired) + u_desired\r\n",
        "    return A.dot(x) + B.dot(u)\r\n",
        "\r\n",
        "Count = 100\r\n",
        "time = np.zeros((Count))\r\n",
        "dt = 0.01\r\n",
        "\r\n",
        "x0 = np.random.rand(n) \r\n",
        "solution = np.zeros((Count, 2))\r\n",
        "solution[0, :] = x0\r\n",
        "\r\n",
        "\r\n",
        "\r\n",
        "for i in range(0, Count-1):\r\n",
        "    x = solution[i, :]\r\n",
        "    x = StateSpace(x)\r\n",
        "    solution[i+1, :] = np.reshape(x, (1, 2))\r\n",
        "    time[i] = dt*i\r\n",
        "\r\n",
        "plt.subplot(221)\r\n",
        "plt.plot(range(0, Count), solution, linewidth=2)\r\n",
        "plt.xlabel('time')\r\n",
        "plt.ylabel('x(t)')\r\n",
        "plt.grid(color='k', linestyle='--', linewidth=0.7, alpha=0.3)"
      ],
      "execution_count": null,
      "outputs": [
        {
          "output_type": "stream",
          "text": [
            "[0.48228757 0.21771243]\n",
            "K: [[-0.57142857 -1.57142857]\n",
            " [ 0.41428571  0.41428571]]\n",
            "eigenvalues of A - B*K: [0.2 0.7]\n"
          ],
          "name": "stdout"
        },
        {
          "output_type": "display_data",
          "data": {
            "image/png": "[encoded data removed]",
            "text/plain": [
              "<Figure size 1440x1440 with 1 Axes>"
            ]
          },
          "metadata": {
            "tags": [],
            "needs_background": "light"
          }
        }
      ]
    }
  ]
}